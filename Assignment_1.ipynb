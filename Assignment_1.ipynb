{
 "cells": [
  {
   "cell_type": "markdown",
   "metadata": {},
   "source": [
    "<h1><center>CSEN1022:Assignment 1</center></h1>\n",
    "<h3><center>Winter 2021</center></h3>\n",
    "<hr style=\"border:2px solid black\"> </hr>"
   ]
  },
  {
   "cell_type": "markdown",
   "metadata": {},
   "source": [
    "### <u> Please don't forget to fill in this data </u>\n",
    "**Member 1**\n",
    "\n",
    "Name:\n",
    "\n",
    "GUC-ID:\n",
    "\n",
    "Elective Tutorial No.:\n",
    "\n",
    "**Member 2**\n",
    "\n",
    "Name:\n",
    "\n",
    "GUC-ID:\n",
    "\n",
    "Elective Tutorial No.:\n",
    "\n",
    "<hr style=\"border:2px solid black\"> </hr>"
   ]
  },
  {
   "cell_type": "markdown",
   "metadata": {},
   "source": [
    "## Imports (Don't Edit)"
   ]
  },
  {
   "cell_type": "code",
   "execution_count": 37,
   "metadata": {},
   "outputs": [],
   "source": [
    "# ONLY USE THESE IMPORTS.\n",
    "# PLEASE DON'T EDIT THIS CELL.\n",
    "import numpy as np\n",
    "import matplotlib.pyplot as plt\n",
    "%matplotlib inline"
   ]
  },
  {
   "cell_type": "markdown",
   "metadata": {},
   "source": [
    "## Read Data (Edit)"
   ]
  },
  {
   "cell_type": "code",
   "execution_count": null,
   "metadata": {},
   "outputs": [],
   "source": [
    "# return (x_train, y_train), (x_test, y_test)\n",
    "testautomobile=np.array([plt.imread('Data/test/automobile/'+str(i)+'.jpg').reshape(-1) for i in range(0,1000)])\n",
    "\n",
    "trainautomobile=np.array([plt.imread('Data/train/automobile/'+str(i)+'.jpg').reshape(-1) for i in range(0,5000)])\n",
    "testairplane=np.array([plt.imread('Data/test/airplane/'+str(i)+'.jpg').reshape(-1) for i in range(0,1000)])\n",
    "trainairplane=np.array([plt.imread('Data/train/airplane/'+str(i)+'.jpg').reshape(-1) for i in range(0,5000)])\n",
    "testfrog=np.array([plt.imread('Data/test/frog/'+str(i)+'.jpg').reshape(-1) for i in range(0,1000)])\n",
    "trainfrog=np.array([plt.imread('Data/train/frog/'+str(i)+'.jpg').reshape(-1) for i in range(0,5000)])\n",
    "\n",
    "trainairplane=trainairplane/255\n",
    "testairplane=testairplane/255\n",
    "testautomobile=testautomobile/255\n",
    "trainautomobile=trainautomobile/255\n",
    "trainfrog=trainfrog/255\n",
    "testfrog=testfrog/255\n",
    "FrogPlaneMatrix=np.concatenate((trainfrog,trainairplane), axis=0)\n",
    "AutomobileFrog=np.concatenate((trainautomobile,trainfrog), axis=0)\n",
    "train=np.concatenate((trainairplane, trainautomobile,trainfrog), axis=0)\n",
    "AutomobileAirplane=np.concatenate((trainairplane,trainautomobile), axis=0)\n",
    "test=np.concatenate((testairplane, testautomobile,testfrog), axis=0)\n",
    "test.shape\n",
    "#train2=np.array([plt.imread('Data/train/frog/'+str(i)+'.jpg').reshape(-1) for i in range(0,5000)])\n",
    "#train3=np.array([plt.imread('Data/train/automobile/'+str(i)+'.jpg').reshape(-1) for i in range(0,5000)])\n",
    "#t=train1+train2\n",
    "#t1=np.append\n",
    "#trainair=trainair.reshape(train.shape)\n",
    "\n",
    "\n",
    "\n"
   ]
  },
  {
   "cell_type": "markdown",
   "metadata": {},
   "source": [
    "<hr style=\"border:2px solid black\"> </hr>\n",
    "\n",
    "## Construct Fischer's Linear Discriminant classifier for each of the 3 classes.\n",
    "#### Test each classifier on all images in X_Test. \n",
    "#### Construct Confusion Matrix."
   ]
  },
  {
   "cell_type": "code",
   "execution_count": 32,
   "metadata": {},
   "outputs": [
    {
     "data": {
      "text/plain": [
       "968.3615616209712"
      ]
     },
     "execution_count": 32,
     "metadata": {},
     "output_type": "execute_result"
    }
   ],
   "source": [
    "# Write code here\n",
    "ConfusionMatrix=np.zeros((3,3))\n",
    "# Train\n",
    "# Test\n",
    "# confusion_matrix = \n",
    "\n",
    "\n"
   ]
  },
  {
   "cell_type": "markdown",
   "metadata": {},
   "source": [
    "## Confusion Matrix (Don't Edit)"
   ]
  },
  {
   "cell_type": "code",
   "execution_count": null,
   "metadata": {},
   "outputs": [],
   "source": [
    "# Make sure the previous cell returns a variable called confusion_matrix\n",
    "# Plot Confusion Matrix\n",
    "accuracy = np.diag(confusion_matrix).sum()/X_test.shape[0]\n",
    "plt.rc('figure', figsize=[5,5])\n",
    "plt.matshow(confusion_matrix,cmap=\"Blues\")\n",
    "plt.title('FLD+RGB = {0:0.3f}'.format(accuracy))\n",
    "for i in range(0,confusion_matrix.shape[0]):\n",
    "    for j in range(0,confusion_matrix.shape[1]):\n",
    "        plt.annotate(confusion_matrix[i,j],(j,i))"
   ]
  },
  {
   "cell_type": "markdown",
   "metadata": {},
   "source": [
    "### Repeat for Grayscale"
   ]
  },
  {
   "cell_type": "code",
   "execution_count": null,
   "metadata": {},
   "outputs": [],
   "source": [
    "# Write code here\n",
    "# Train\n",
    "# Test\n",
    "# confusion_matrix = "
   ]
  },
  {
   "cell_type": "markdown",
   "metadata": {},
   "source": [
    "## Confusion Matrix (Don't Edit)"
   ]
  },
  {
   "cell_type": "code",
   "execution_count": null,
   "metadata": {},
   "outputs": [],
   "source": [
    "# Make sure the previous cell returns a variable called confusion_matrix\n",
    "# Plot Confusion Matrix\n",
    "accuracy = np.diag(confusion_matrix).sum()/X_test.shape[0]\n",
    "plt.rc('figure', figsize=[5,5])\n",
    "plt.matshow(confusion_matrix,cmap=\"Blues\")\n",
    "plt.title('FLD+GRAY = {0:0.3f}'.format(accuracy))\n",
    "for i in range(0,confusion_matrix.shape[0]):\n",
    "    for j in range(0,confusion_matrix.shape[1]):\n",
    "        plt.annotate(confusion_matrix[i,j],(j,i))"
   ]
  },
  {
   "cell_type": "markdown",
   "metadata": {},
   "source": [
    "<hr style=\"border:2px solid black\"> </hr>\n",
    "\n",
    "## Comment on the change of accuracy between RGB and Grayscale\n",
    "##########\n",
    "\n",
    "Write Comment Here\n",
    "\n",
    "...\n",
    "...\n",
    "...\n",
    "\n",
    "##########\n",
    "<hr style=\"border:2px solid black\"> </hr>"
   ]
  }
 ],
 "metadata": {
  "interpreter": {
   "hash": "31f2aee4e71d21fbe5cf8b01ff0e069b9275f58929596ceb00d14d90e3e16cd6"
  },
  "kernelspec": {
   "display_name": "Python 3",
   "language": "python",
   "name": "python3"
  },
  "language_info": {
   "codemirror_mode": {
    "name": "ipython",
    "version": 3
   },
   "file_extension": ".py",
   "mimetype": "text/x-python",
   "name": "python",
   "nbconvert_exporter": "python",
   "pygments_lexer": "ipython3",
   "version": "3.8.8"
  }
 },
 "nbformat": 4,
 "nbformat_minor": 4
}
